{
 "cells": [
  {
   "cell_type": "code",
   "execution_count": 0,
   "metadata": {
    "application/vnd.databricks.v1+cell": {
     "cellMetadata": {},
     "inputWidgets": {},
     "nuid": "e0a3fccd-370b-4541-b233-ce7567ed06af",
     "showTitle": false,
     "tableResultSettingsMap": {},
     "title": ""
    }
   },
   "outputs": [
    {
     "output_type": "display_data",
     "data": {
      "text/plain": [
       "Databricks visualization. Run in Databricks to view."
      ]
     },
     "metadata": {
      "application/vnd.databricks.v1.subcommand+json": {
       "baseErrorDetails": null,
       "bindings": {},
       "collapsed": false,
       "command": "WITH StagedEvents AS (\n    SELECT\n        CampaignId,\n        ContactId,\n        EventType,\n        -- Assign a stage number based on the EventType\n        CASE\n            WHEN EventType = 'sent' THEN 1\n            WHEN EventType = 'delivered' THEN 2\n            WHEN EventType IN ('spam', 'html_open') THEN 3\n            WHEN EventType IN ('click', 'optout_click') THEN 4\n        END AS Stage,\n        -- Use ROW_NUMBER to pick the first event if a contact has multiple events in the same stage category\n        ROW_NUMBER() OVER(PARTITION BY CampaignId, ContactId,\n            CASE\n                WHEN EventType = 'sent' THEN 1\n                WHEN EventType = 'delivered' THEN 2\n                WHEN EventType IN ('spam', 'html_open') THEN 3\n                WHEN EventType IN ('click', 'optout_click') THEN 4\n            END\n        ORDER BY EventDate ASC) as rn\n    FROM\n        silver_events -- <<< IMPORTANT: Replace this with the actual name of your table\n    WHERE\n        -- The query is filterable by CampaignId. Change the value below as needed.\n        CampaignId like \"%%\"\n),\n\n-- CTE 2: ContactJourney\n-- This step pivots the staged event data. It transforms the rows of events for each contact\n-- into a single row with columns for each stage, representing their complete journey.\nContactJourney AS (\n    SELECT\n        CampaignId,\n        ContactId,\n        MAX(CASE WHEN Stage = 1 THEN EventType END) AS stage_1,\n        MAX(CASE WHEN Stage = 2 THEN EventType END) AS stage_2,\n        MAX(CASE WHEN Stage = 3 THEN EventType END) AS stage_3,\n        MAX(CASE WHEN Stage = 4 THEN EventType END) AS stage_4\n    FROM\n        StagedEvents\n    WHERE\n        rn = 1 -- This ensures we only use the first event for each stage per contact\n    GROUP BY\n        CampaignId,\n        ContactId\n)\n\n-- Final SELECT Statement\n-- This aggregates the unique journeys from the ContactJourney CTE and counts\n-- the number of unique contacts for each journey.\nSELECT\n    stage_1,\n    stage_2,\n    stage_3,\n    stage_4,\n    COUNT(ContactId) AS value\nFROM\n    ContactJourney\nGROUP BY\n    stage_1,\n    stage_2,\n    stage_3,\n    stage_4\nORDER BY\n    value DESC;",
       "commandTitle": "Sankey 1",
       "commandType": "auto",
       "commandVersion": 0,
       "commentThread": [],
       "commentsVisible": false,
       "contentSha256Hex": null,
       "customPlotOptions": {
        "redashChart": [
         {
          "key": "type",
          "value": "SANKEY"
         },
         {
          "key": "options",
          "value": {}
         }
        ]
       },
       "datasetPreviewNameToCmdIdMap": {},
       "diffDeletes": [],
       "diffInserts": [],
       "displayType": "redashChart",
       "error": null,
       "errorDetails": null,
       "errorSummary": null,
       "errorTraceType": null,
       "finishTime": 0,
       "globalVars": {},
       "guid": "",
       "height": "auto",
       "hideCommandCode": false,
       "hideCommandResult": false,
       "iPythonMetadata": null,
       "inputWidgets": {},
       "isLockedInExamMode": false,
       "latestUser": "a user",
       "latestUserId": null,
       "listResultMetadata": null,
       "metadata": {},
       "nuid": "57015ab2-0a6f-436a-8165-16f4b4d6d707",
       "origId": 0,
       "parentHierarchy": [],
       "pivotAggregation": null,
       "pivotColumns": null,
       "position": 2.0,
       "resultDbfsErrorMessage": null,
       "resultDbfsStatus": "INLINED_IN_TREE",
       "results": null,
       "showCommandTitle": false,
       "startTime": 0,
       "state": "input",
       "streamStates": {},
       "subcommandOptions": {
        "redashId": "302663ab-b5ef-46c9-99cf-8443cecb5bb0",
        "redashLastUpdated": 1756799077000
       },
       "submitTime": 0,
       "subtype": "tableResultSubCmd.visualization",
       "tableResultIndex": 0,
       "tableResultSettingsMap": {},
       "useConsistentColors": false,
       "version": "CommandV1",
       "width": "auto",
       "workflows": null,
       "xColumns": null,
       "yColumns": null
      }
     },
     "output_type": "display_data"
    }
   ],
   "source": [
    "WITH StagedEvents AS (\n",
    "    SELECT\n",
    "        CampaignId,\n",
    "        ContactId,\n",
    "        EventType,\n",
    "        -- Assign a stage number based on the EventType\n",
    "        CASE\n",
    "            WHEN EventType = 'sent' THEN 1\n",
    "            WHEN EventType = 'delivered' THEN 2\n",
    "            WHEN EventType IN ('spam', 'html_open') THEN 3\n",
    "            WHEN EventType IN ('click', 'optout_click') THEN 4\n",
    "        END AS Stage,\n",
    "        -- Use ROW_NUMBER to pick the first event if a contact has multiple events in the same stage category\n",
    "        ROW_NUMBER() OVER(PARTITION BY CampaignId, ContactId,\n",
    "            CASE\n",
    "                WHEN EventType = 'sent' THEN 1\n",
    "                WHEN EventType = 'delivered' THEN 2\n",
    "                WHEN EventType IN ('spam', 'html_open') THEN 3\n",
    "                WHEN EventType IN ('click', 'optout_click') THEN 4\n",
    "            END\n",
    "        ORDER BY EventDate ASC) as rn\n",
    "    FROM\n",
    "        silver_events -- <<< IMPORTANT: Replace this with the actual name of your table\n",
    "    WHERE\n",
    "        -- The query is filterable by CampaignId. Change the value below as needed.\n",
    "        CampaignId like \"%%\"\n",
    "),\n",
    "\n",
    "-- CTE 2: ContactJourney\n",
    "-- This step pivots the staged event data. It transforms the rows of events for each contact\n",
    "-- into a single row with columns for each stage, representing their complete journey.\n",
    "ContactJourney AS (\n",
    "    SELECT\n",
    "        CampaignId,\n",
    "        ContactId,\n",
    "        MAX(CASE WHEN Stage = 1 THEN EventType END) AS stage_1,\n",
    "        MAX(CASE WHEN Stage = 2 THEN EventType END) AS stage_2,\n",
    "        MAX(CASE WHEN Stage = 3 THEN EventType END) AS stage_3,\n",
    "        MAX(CASE WHEN Stage = 4 THEN EventType END) AS stage_4\n",
    "    FROM\n",
    "        StagedEvents\n",
    "    WHERE\n",
    "        rn = 1 -- This ensures we only use the first event for each stage per contact\n",
    "    GROUP BY\n",
    "        CampaignId,\n",
    "        ContactId\n",
    ")\n",
    "\n",
    "-- Final SELECT Statement\n",
    "-- This aggregates the unique journeys from the ContactJourney CTE and counts\n",
    "-- the number of unique contacts for each journey.\n",
    "SELECT\n",
    "    stage_1,\n",
    "    stage_2,\n",
    "    stage_3,\n",
    "    stage_4,\n",
    "    COUNT(ContactId) AS value\n",
    "FROM\n",
    "    ContactJourney\n",
    "GROUP BY\n",
    "    stage_1,\n",
    "    stage_2,\n",
    "    stage_3,\n",
    "    stage_4\n",
    "ORDER BY\n",
    "    value DESC;"
   ]
  }
 ],
 "metadata": {
  "application/vnd.databricks.v1+notebook": {
   "computePreferences": null,
   "dashboards": [],
   "environmentMetadata": null,
   "inputWidgetPreferences": null,
   "language": "sql",
   "notebookMetadata": {
    "pythonIndentUnit": 4,
    "sqlQueryOptions": {
     "applyAutoLimit": true,
     "catalog": "workspace",
     "schema": "marketing_workshop"
    }
   },
   "notebookName": "fancy stuff.dbquery.ipynb",
   "widgets": {}
  },
  "language_info": {
   "name": "sql"
  }
 },
 "nbformat": 4,
 "nbformat_minor": 0
}
