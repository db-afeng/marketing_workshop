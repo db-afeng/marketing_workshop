{
 "cells": [
  {
   "cell_type": "code",
   "execution_count": 0,
   "metadata": {
    "application/vnd.databricks.v1+cell": {
     "cellMetadata": {
      "byteLimit": 10485760,
      "rowLimit": 1000
     },
     "inputWidgets": {},
     "nuid": "1e79bdb3-93ff-46c9-b0e2-876f82b292c0",
     "showTitle": false,
     "tableResultSettingsMap": {},
     "title": ""
    }
   },
   "outputs": [
    {
     "output_type": "display_data",
     "data": {
      "text/plain": [
       "Databricks visualization. Run in Databricks to view."
      ]
     },
     "metadata": {
      "application/vnd.databricks.v1.subcommand+json": {
       "baseErrorDetails": null,
       "bindings": {},
       "collapsed": false,
       "command": "select *, event_count as `value` from gold_funnel_conversion;\n\nselect distinct event_type from gold_funnel_conversion;\n\nselect event_type, sum(event_count) as event_count, avg(event_funnel_order) as event_funnel_order from gold_funnel_conversion where event_type not in (\"optout_click\", \"spam\") and campaign_id like '%100%' group by event_type;\n\nselect EventType, count(EventType) from silver_events version as of 2 group by EventType;\n\nselect * from silver_events version as of 2 a where a.EventId not in (\n  select EventId from silver_events\n);\n\ninsert into silver_events(\n  select * from silver_events version as of 2 a where a.EventId not in (\n    select EventId from silver_events\n  )\n);\n",
       "commandTitle": "Funnel 1",
       "commandType": "auto",
       "commandVersion": 0,
       "commentThread": [],
       "commentsVisible": false,
       "contentSha256Hex": null,
       "customPlotOptions": {
        "redashChart": [
         {
          "key": "type",
          "value": "FUNNEL"
         },
         {
          "key": "options",
          "value": {
           "autoSort": false,
           "condensed": true,
           "itemsLimit": 100,
           "numberFormat": "0,0.[00]",
           "percentFormat": "0[.]00%",
           "percentValuesRange": {
            "max": 1000,
            "min": 0.01
           },
           "sortKeyCol": {
            "colName": "event_funnel_order",
            "reverse": false
           },
           "stepCol": {
            "colName": "event_type",
            "displayAs": "Steps"
           },
           "valueCol": {
            "colName": "event_count",
            "displayAs": "Value"
           },
           "withRowNumber": true
          }
         }
        ]
       },
       "datasetPreviewNameToCmdIdMap": {},
       "diffDeletes": [],
       "diffInserts": [],
       "displayType": "redashChart",
       "error": null,
       "errorDetails": null,
       "errorSummary": null,
       "errorTraceType": null,
       "finishTime": 0,
       "globalVars": {},
       "guid": "",
       "height": "auto",
       "hideCommandCode": false,
       "hideCommandResult": false,
       "iPythonMetadata": null,
       "inputWidgets": {},
       "isLockedInExamMode": false,
       "latestUser": "a user",
       "latestUserId": null,
       "listResultMetadata": null,
       "metadata": {},
       "nuid": "b97effea-0063-47a9-8554-fc5ae3be7135",
       "origId": 0,
       "parentHierarchy": [],
       "pivotAggregation": null,
       "pivotColumns": null,
       "position": 2.0,
       "resultDbfsErrorMessage": null,
       "resultDbfsStatus": "INLINED_IN_TREE",
       "results": null,
       "showCommandTitle": false,
       "startTime": 0,
       "state": "input",
       "streamStates": {},
       "subcommandOptions": {
        "redashId": "4b48bdc8-f249-41d2-873b-3246af3b8839",
        "redashLastUpdated": 1756799928000
       },
       "submitTime": 0,
       "subtype": "tableResultSubCmd.visualization",
       "tableResultIndex": 0,
       "tableResultSettingsMap": {},
       "useConsistentColors": false,
       "version": "CommandV1",
       "width": "auto",
       "workflows": null,
       "xColumns": null,
       "yColumns": null
      }
     },
     "output_type": "display_data"
    },
    {
     "output_type": "display_data",
     "data": {
      "text/plain": [
       "Databricks visualization. Run in Databricks to view."
      ]
     },
     "metadata": {
      "application/vnd.databricks.v1.subcommand+json": {
       "baseErrorDetails": null,
       "bindings": {},
       "collapsed": false,
       "command": "select *, event_count as `value` from gold_funnel_conversion;\n\nselect distinct event_type from gold_funnel_conversion;\n\nselect event_type, sum(event_count) as event_count, avg(event_funnel_order) as event_funnel_order from gold_funnel_conversion where event_type not in (\"optout_click\", \"spam\") and campaign_id like '%100%' group by event_type;\n\nselect EventType, count(EventType) from silver_events version as of 2 group by EventType;\n\nselect * from silver_events version as of 2 a where a.EventId not in (\n  select EventId from silver_events\n);\n\ninsert into silver_events(\n  select * from silver_events version as of 2 a where a.EventId not in (\n    select EventId from silver_events\n  )\n);\n",
       "commandTitle": "Results",
       "commandType": "auto",
       "commandVersion": 0,
       "commentThread": [],
       "commentsVisible": false,
       "contentSha256Hex": null,
       "customPlotOptions": {
        "redashChart": [
         {
          "key": "type",
          "value": "TABLE"
         },
         {
          "key": "options",
          "value": {
           "version": 2
          }
         }
        ]
       },
       "datasetPreviewNameToCmdIdMap": {},
       "diffDeletes": [],
       "diffInserts": [],
       "displayType": "redashChart",
       "error": null,
       "errorDetails": null,
       "errorSummary": null,
       "errorTraceType": null,
       "finishTime": 0,
       "globalVars": {},
       "guid": "",
       "height": "auto",
       "hideCommandCode": false,
       "hideCommandResult": false,
       "iPythonMetadata": null,
       "inputWidgets": {},
       "isLockedInExamMode": false,
       "latestUser": "a user",
       "latestUserId": null,
       "listResultMetadata": null,
       "metadata": {},
       "nuid": "92f1cb0e-00d7-4b55-99bd-9cac636d0569",
       "origId": 0,
       "parentHierarchy": [],
       "pivotAggregation": null,
       "pivotColumns": null,
       "position": 3.0,
       "resultDbfsErrorMessage": null,
       "resultDbfsStatus": "INLINED_IN_TREE",
       "results": null,
       "showCommandTitle": false,
       "startTime": 0,
       "state": "input",
       "streamStates": {},
       "subcommandOptions": {
        "redashId": "b37cb3bd-328a-412a-8e47-a6c005ba9239",
        "redashLastUpdated": 1756174622000
       },
       "submitTime": 0,
       "subtype": "tableResultSubCmd.visualization",
       "tableResultIndex": 0,
       "tableResultSettingsMap": {},
       "useConsistentColors": false,
       "version": "CommandV1",
       "width": "auto",
       "workflows": null,
       "xColumns": null,
       "yColumns": null
      }
     },
     "output_type": "display_data"
    }
   ],
   "source": [
    "select *, event_count as `value` from gold_funnel_conversion;\n",
    "\n",
    "select distinct event_type from gold_funnel_conversion;\n",
    "\n",
    "select event_type, sum(event_count) as event_count, avg(event_funnel_order) as event_funnel_order from gold_funnel_conversion where event_type not in (\"optout_click\", \"spam\") and campaign_id like '%100%' group by event_type;"
   ]
  }
 ],
 "metadata": {
  "application/vnd.databricks.v1+notebook": {
   "computePreferences": null,
   "dashboards": [],
   "environmentMetadata": null,
   "inputWidgetPreferences": null,
   "language": "sql",
   "notebookMetadata": {
    "pythonIndentUnit": 4,
    "sqlQueryOptions": {
     "applyAutoLimit": true,
     "catalog": "workspace",
     "schema": "marketing_workshop"
    }
   },
   "notebookName": "Data exploration.dbquery.ipynb",
   "widgets": {}
  },
  "language_info": {
   "name": "sql"
  }
 },
 "nbformat": 4,
 "nbformat_minor": 0
}
